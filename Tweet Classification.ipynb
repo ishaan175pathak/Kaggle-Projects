{
 "cells": [
  {
   "cell_type": "markdown",
   "metadata": {},
   "source": [
    "## Task in Hand \n",
    "1. Cleaning the text \n",
    "2. Visualizing the number of texts in each class \n",
    "3. Building a model to classify the texts "
   ]
  },
  {
   "cell_type": "code",
   "execution_count": 1,
   "metadata": {},
   "outputs": [],
   "source": [
    "import pandas as pd \n",
    "from nltk.util import ngrams\n",
    "from nltk.corpus import stopwords\n",
    "from collections import Counter\n",
    "import string\n",
    "import re"
   ]
  },
  {
   "cell_type": "code",
   "execution_count": 2,
   "metadata": {},
   "outputs": [],
   "source": [
    "# exploring the dataset \n",
    "\n",
    "with open(\"train.csv\") as file:\n",
    "    data_train = pd.read_csv(file)"
   ]
  },
  {
   "cell_type": "code",
   "execution_count": 3,
   "metadata": {},
   "outputs": [
    {
     "name": "stdout",
     "output_type": "stream",
     "text": [
      "<class 'pandas.core.frame.DataFrame'>\n",
      "RangeIndex: 7613 entries, 0 to 7612\n",
      "Data columns (total 5 columns):\n",
      " #   Column    Non-Null Count  Dtype \n",
      "---  ------    --------------  ----- \n",
      " 0   id        7613 non-null   int64 \n",
      " 1   keyword   7552 non-null   object\n",
      " 2   location  5080 non-null   object\n",
      " 3   text      7613 non-null   object\n",
      " 4   target    7613 non-null   int64 \n",
      "dtypes: int64(2), object(3)\n",
      "memory usage: 297.5+ KB\n"
     ]
    }
   ],
   "source": [
    "# printing the info of the dataframe\n",
    "\n",
    "data_train.info()"
   ]
  },
  {
   "cell_type": "code",
   "execution_count": 4,
   "metadata": {},
   "outputs": [
    {
     "data": {
      "text/plain": [
       "id             0\n",
       "keyword       61\n",
       "location    2533\n",
       "text           0\n",
       "target         0\n",
       "dtype: int64"
      ]
     },
     "execution_count": 4,
     "metadata": {},
     "output_type": "execute_result"
    }
   ],
   "source": [
    "# printing the null values from the dataframe\n",
    "\n",
    "data_train.isnull().sum()"
   ]
  },
  {
   "cell_type": "code",
   "execution_count": 5,
   "metadata": {},
   "outputs": [],
   "source": [
    "# creating a copy of the data \n",
    "\n",
    "data = data_train.copy()"
   ]
  },
  {
   "cell_type": "markdown",
   "metadata": {},
   "source": [
    "## Data Preprocessing and Cleaning\n",
    "\n",
    "1. Removing all the stop words the from text\n",
    "2. Removing punctuations the from text\n",
    "3. Removing hyperlinks the from text"
   ]
  },
  {
   "cell_type": "code",
   "execution_count": 6,
   "metadata": {},
   "outputs": [
    {
     "data": {
      "text/plain": [
       "0        deeds reason #earthquake may allah forgive us\n",
       "1               forest fire near la ronge sask. canada\n",
       "2    residents asked 'shelter place' notified offic...\n",
       "3    13,000 people receive #wildfires evacuation or...\n",
       "4    got sent photo ruby #alaska smoke #wildfires p...\n",
       "Name: text, dtype: object"
      ]
     },
     "execution_count": 6,
     "metadata": {},
     "output_type": "execute_result"
    }
   ],
   "source": [
    "# Removing the stopwords\n",
    "\n",
    "data[\"text\"] = data[\"text\"].apply(lambda text: \" \".join(word for word in str(text).lower().split() if word not in set(stopwords.words('english'))))\n",
    "\n",
    "data[\"text\"].head()"
   ]
  },
  {
   "cell_type": "code",
   "execution_count": 7,
   "metadata": {},
   "outputs": [
    {
     "data": {
      "text/plain": [
       "0        deeds reason #earthquake may allah forgive us\n",
       "1               forest fire near la ronge sask. canada\n",
       "2    residents asked 'shelter place' notified offic...\n",
       "3    13,000 people receive #wildfires evacuation or...\n",
       "4    got sent photo ruby #alaska smoke #wildfires p...\n",
       "Name: text, dtype: object"
      ]
     },
     "execution_count": 7,
     "metadata": {},
     "output_type": "execute_result"
    }
   ],
   "source": [
    "# removing http links from the data \n",
    "\n",
    "data[\"text\"] = data[\"text\"].apply(lambda text: re.sub('((www.[^s]+)|(https?://[^s]+))','',str(text)))\n",
    "data[\"text\"].head()"
   ]
  },
  {
   "cell_type": "code",
   "execution_count": 8,
   "metadata": {},
   "outputs": [
    {
     "data": {
      "text/plain": [
       "0         deeds reason earthquake may allah forgive us\n",
       "1                forest fire near la ronge sask canada\n",
       "2    residents asked shelter place notified officer...\n",
       "3    13000 people receive wildfires evacuation orde...\n",
       "4    got sent photo ruby alaska smoke wildfires pou...\n",
       "Name: text, dtype: object"
      ]
     },
     "execution_count": 8,
     "metadata": {},
     "output_type": "execute_result"
    }
   ],
   "source": [
    "# removing all the special charactres  \n",
    "\n",
    "data[\"text\"] = data[\"text\"].apply(lambda text: text.translate(str.maketrans('','',string.punctuation)))\n",
    "\n",
    "data[\"text\"].head()"
   ]
  },
  {
   "cell_type": "markdown",
   "metadata": {},
   "source": [
    "## Visualizing the target variables "
   ]
  },
  {
   "cell_type": "code",
   "execution_count": 9,
   "metadata": {},
   "outputs": [
    {
     "data": {
      "text/plain": [
       "[Text(0, 0, 'Negative'), Text(0, 0, 'Positive')]"
      ]
     },
     "execution_count": 9,
     "metadata": {},
     "output_type": "execute_result"
    },
    {
     "data": {
      "image/png": "[encoded data removed]",
      "text/plain": [
       "<Figure size 432x288 with 1 Axes>"
      ]
     },
     "metadata": {
      "needs_background": "light"
     },
     "output_type": "display_data"
    }
   ],
   "source": [
    "data_text = data.drop([\"id\",\"keyword\",\"location\"],axis=1) # visualizing only the text column and dropping the rest\n",
    "\n",
    "ax = data_text.groupby(\"target\").count().plot(kind=\"bar\",title=\"Data Distibution\",legend=False)\n",
    "ax.set_xticklabels([\"Negative\",\"Positive\"],rotation=0)"
   ]
  },
  {
   "cell_type": "code",
   "execution_count": 10,
   "metadata": {},
   "outputs": [
    {
     "data": {
      "text/plain": [
       "'Positive Cases - 3271 and Negative Cases - 4342'"
      ]
     },
     "execution_count": 10,
     "metadata": {},
     "output_type": "execute_result"
    }
   ],
   "source": [
    "positive_cases = data[data[\"target\"] == 1]\n",
    "negative_cases = data[data[\"target\"] == 0]\n",
    "\n",
    "f\"Positive Cases - {len(positive_cases)} and Negative Cases - {len(negative_cases)}\""
   ]
  },
  {
   "cell_type": "markdown",
   "metadata": {},
   "source": [
    "### using ngrams to find frequent phrases in positive and negative classes "
   ]
  },
  {
   "cell_type": "code",
   "execution_count": 11,
   "metadata": {},
   "outputs": [
    {
     "data": {
      "text/plain": [
       "[(('suicide', 'bomber'), 59),\n",
       " (('northern', 'california'), 41),\n",
       " (('oil', 'spill'), 38),\n",
       " (('burning', 'buildings'), 35),\n",
       " (('suicide', 'bombing'), 34),\n",
       " (('california', 'wildfire'), 34),\n",
       " (('70', 'years'), 30),\n",
       " (('bomber', 'detonated'), 30),\n",
       " (('confirmed', 'mh370'), 29),\n",
       " (('homes', 'razed'), 29),\n",
       " (('razed', 'northern'), 28),\n",
       " (('16yr', 'old'), 28),\n",
       " (('pkk', 'suicide'), 28),\n",
       " (('detonated', 'bomb'), 28),\n",
       " (('severe', 'thunderstorm'), 27),\n",
       " (('mass', 'murder'), 27),\n",
       " (('latest', 'homes'), 27),\n",
       " (('old', 'pkk'), 27),\n",
       " (('debris', 'found'), 26),\n",
       " (('mh370', 'malaysia'), 26)]"
      ]
     },
     "execution_count": 11,
     "metadata": {},
     "output_type": "execute_result"
    }
   ],
   "source": [
    "Stopwords = set(stopwords.words('english'))\n",
    "\n",
    "positive_ngrams = [val for text in positive_cases[\"text\"].tolist() for val in ngrams(text.split(),2)]\n",
    "\n",
    "common_in_positive = Counter(positive_ngrams)\n",
    "\n",
    "common_in_positive.most_common(20)"
   ]
  },
  {
   "cell_type": "code",
   "execution_count": 12,
   "metadata": {},
   "outputs": [
    {
     "data": {
      "text/plain": [
       "[(('cross', 'body'), 38),\n",
       " (('youtube', 'video'), 36),\n",
       " (('liked', 'youtube'), 35),\n",
       " (('body', 'bag'), 26),\n",
       " (('full', 're\\x89û'), 25),\n",
       " (('body', 'bagging'), 23),\n",
       " (('burning', 'buildings'), 23),\n",
       " (('full', 'read'), 22),\n",
       " (('looks', 'like'), 21),\n",
       " (('reddit', 'quarantine'), 21)]"
      ]
     },
     "execution_count": 12,
     "metadata": {},
     "output_type": "execute_result"
    }
   ],
   "source": [
    "negative_ngrams = [val for text in negative_cases[\"text\"].tolist() for val in ngrams(text.split(),2)]\n",
    "\n",
    "common_in_negative = Counter(negative_ngrams)\n",
    "\n",
    "common_in_negative.most_common(10)"
   ]
  },
  {
   "cell_type": "markdown",
   "metadata": {},
   "source": [
    "### Will Start building a model from here"
   ]
  }
 ],
 "metadata": {
  "kernelspec": {
   "display_name": "Python 3.8.3 ('base')",
   "language": "python",
   "name": "python3"
  },
  "language_info": {
   "codemirror_mode": {
    "name": "ipython",
    "version": 3
   },
   "file_extension": ".py",
   "mimetype": "text/x-python",
   "name": "python",
   "nbconvert_exporter": "python",
   "pygments_lexer": "ipython3",
   "version": "3.8.3"
  },
  "orig_nbformat": 4,
  "vscode": {
   "interpreter": {
    "hash": "88279d2366fe020547cde40dd65aa0e3aa662a6ec1f3ca12d88834876c85e1a6"
   }
  }
 },
 "nbformat": 4,
 "nbformat_minor": 2
}
